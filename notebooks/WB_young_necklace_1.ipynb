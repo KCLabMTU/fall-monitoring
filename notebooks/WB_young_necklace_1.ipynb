{
 "cells": [
  {
   "cell_type": "code",
   "execution_count": 1,
   "metadata": {},
   "outputs": [
    {
     "name": "stderr",
     "output_type": "stream",
     "text": [
      "2023-03-06 14:57:58.666162: I tensorflow/core/platform/cpu_feature_guard.cc:193] This TensorFlow binary is optimized with oneAPI Deep Neural Network Library (oneDNN) to use the following CPU instructions in performance-critical operations:  AVX2 AVX512F AVX512_VNNI FMA\n",
      "To enable them in other operations, rebuild TensorFlow with the appropriate compiler flags.\n",
      "2023-03-06 14:57:58.909397: I tensorflow/core/util/util.cc:169] oneDNN custom operations are on. You may see slightly different numerical results due to floating-point round-off errors from different computation orders. To turn them off, set the environment variable `TF_ENABLE_ONEDNN_OPTS=0`.\n",
      "2023-03-06 14:57:58.967280: W tensorflow/stream_executor/platform/default/dso_loader.cc:64] Could not load dynamic library 'libcudart.so.11.0'; dlerror: libcudart.so.11.0: cannot open shared object file: No such file or directory\n",
      "2023-03-06 14:57:58.967330: I tensorflow/stream_executor/cuda/cudart_stub.cc:29] Ignore above cudart dlerror if you do not have a GPU set up on your machine.\n",
      "2023-03-06 14:57:59.031720: E tensorflow/stream_executor/cuda/cuda_blas.cc:2981] Unable to register cuBLAS factory: Attempting to register factory for plugin cuBLAS when one has already been registered\n",
      "2023-03-06 14:57:59.984280: W tensorflow/stream_executor/platform/default/dso_loader.cc:64] Could not load dynamic library 'libnvinfer.so.7'; dlerror: libnvinfer.so.7: cannot open shared object file: No such file or directory\n",
      "2023-03-06 14:57:59.984344: W tensorflow/stream_executor/platform/default/dso_loader.cc:64] Could not load dynamic library 'libnvinfer_plugin.so.7'; dlerror: libnvinfer_plugin.so.7: cannot open shared object file: No such file or directory\n",
      "2023-03-06 14:57:59.984350: W tensorflow/compiler/tf2tensorrt/utils/py_utils.cc:38] TF-TRT Warning: Cannot dlopen some TensorRT libraries. If you would like to use Nvidia GPU with TensorRT, please make sure the missing libraries mentioned above are installed properly.\n"
     ]
    }
   ],
   "source": [
    "import tensorflow as tf\n",
    "from tensorflow.keras import Sequential\n",
    "from tensorflow.keras.layers import Flatten, Dense, Dropout, BatchNormalization\n",
    "from tensorflow.keras.layers import Conv1D, MaxPool1D, LSTM, Bidirectional\n",
    "from tensorflow.keras.models import load_model\n",
    "from tensorflow.keras.optimizers import Adam, SGD, RMSprop\n",
    "import pandas as pd\n",
    "import numpy as np\n",
    "import matplotlib.pyplot as plt\n",
    "from sklearn.model_selection import train_test_split\n",
    "from sklearn.preprocessing import StandardScaler, LabelEncoder"
   ]
  },
  {
   "cell_type": "code",
   "execution_count": 114,
   "metadata": {
    "scrolled": true
   },
   "outputs": [],
   "source": [
    "data = pd.read_csv('data/processed/necklace_combined_old.csv')"
   ]
  },
  {
   "cell_type": "code",
   "execution_count": 115,
   "metadata": {},
   "outputs": [
    {
     "data": {
      "text/plain": [
       "Walking    98736\n",
       "Running    98406\n",
       "Stairs     61578\n",
       "Sitting    14124\n",
       "Falling    12672\n",
       "Name: label, dtype: int64"
      ]
     },
     "execution_count": 115,
     "metadata": {},
     "output_type": "execute_result"
    }
   ],
   "source": [
    "# count the datapoints of different activity\n",
    "data['label'].value_counts()"
   ]
  },
  {
   "cell_type": "code",
   "execution_count": 116,
   "metadata": {},
   "outputs": [],
   "source": [
    "# convert attributes to floats\n",
    "data['x_acc'] = data['x_acc'].astype('float')\n",
    "data['y_acc'] = data['y_acc'].astype('float')\n",
    "data['z_acc'] = data['z_acc'].astype('float')\n",
    "data['x_gyr'] = data['x_gyr'].astype('float')\n",
    "data['y_gyr'] = data['y_gyr'].astype('float')\n",
    "data['z_gyr'] = data['z_gyr'].astype('float')"
   ]
  },
  {
   "cell_type": "code",
   "execution_count": 117,
   "metadata": {},
   "outputs": [],
   "source": [
    "activities = data['label'].value_counts().index"
   ]
  },
  {
   "cell_type": "code",
   "execution_count": 118,
   "metadata": {},
   "outputs": [
    {
     "data": {
      "text/plain": [
       "Index(['Walking', 'Running', 'Stairs', 'Sitting', 'Falling'], dtype='object')"
      ]
     },
     "execution_count": 118,
     "metadata": {},
     "output_type": "execute_result"
    }
   ],
   "source": [
    "activities"
   ]
  },
  {
   "cell_type": "code",
   "execution_count": 119,
   "metadata": {},
   "outputs": [],
   "source": [
    "def calculate_class_weights(y):\n",
    "    import sklearn\n",
    "    class_weights = sklearn.utils.class_weight.compute_class_weight(class_weight = \"balanced\",\n",
    "                                                    classes = np.unique(y),\n",
    "                                                    y = y)\n",
    "    class_weights = dict(zip(np.unique(y), class_weights))\n",
    "    \n",
    "    return class_weights"
   ]
  },
  {
   "cell_type": "code",
   "execution_count": 120,
   "metadata": {},
   "outputs": [
    {
     "data": {
      "text/plain": [
       "array(['Falling', 'Running', 'Sitting', 'Stairs', 'Walking'], dtype=object)"
      ]
     },
     "execution_count": 120,
     "metadata": {},
     "output_type": "execute_result"
    }
   ],
   "source": [
    "from sklearn.preprocessing import LabelEncoder\n",
    "label = LabelEncoder()\n",
    "data['label_id'] = label.fit_transform(data['label'])\n",
    "label.classes_"
   ]
  },
  {
   "cell_type": "markdown",
   "metadata": {},
   "source": [
    "### Standardized data "
   ]
  },
  {
   "cell_type": "code",
   "execution_count": 121,
   "metadata": {},
   "outputs": [],
   "source": [
    "X = data[['x_acc', 'y_acc', 'z_acc', 'x_gyr', 'y_gyr', 'z_gyr']]\n",
    "y = data['label_id']"
   ]
  },
  {
   "cell_type": "code",
   "execution_count": 122,
   "metadata": {},
   "outputs": [
    {
     "data": {
      "text/html": [
       "<div>\n",
       "<style scoped>\n",
       "    .dataframe tbody tr th:only-of-type {\n",
       "        vertical-align: middle;\n",
       "    }\n",
       "\n",
       "    .dataframe tbody tr th {\n",
       "        vertical-align: top;\n",
       "    }\n",
       "\n",
       "    .dataframe thead th {\n",
       "        text-align: right;\n",
       "    }\n",
       "</style>\n",
       "<table border=\"1\" class=\"dataframe\">\n",
       "  <thead>\n",
       "    <tr style=\"text-align: right;\">\n",
       "      <th></th>\n",
       "      <th>x_acc</th>\n",
       "      <th>y_acc</th>\n",
       "      <th>z_acc</th>\n",
       "      <th>x_gyr</th>\n",
       "      <th>y_gyr</th>\n",
       "      <th>z_gyr</th>\n",
       "      <th>label_id</th>\n",
       "    </tr>\n",
       "  </thead>\n",
       "  <tbody>\n",
       "    <tr>\n",
       "      <th>0</th>\n",
       "      <td>0.208260</td>\n",
       "      <td>0.448161</td>\n",
       "      <td>0.304220</td>\n",
       "      <td>0.083190</td>\n",
       "      <td>-0.688908</td>\n",
       "      <td>-0.253846</td>\n",
       "      <td>0</td>\n",
       "    </tr>\n",
       "    <tr>\n",
       "      <th>1</th>\n",
       "      <td>0.264339</td>\n",
       "      <td>0.432887</td>\n",
       "      <td>0.311919</td>\n",
       "      <td>0.073759</td>\n",
       "      <td>-0.681271</td>\n",
       "      <td>-0.242408</td>\n",
       "      <td>0</td>\n",
       "    </tr>\n",
       "    <tr>\n",
       "      <th>2</th>\n",
       "      <td>0.319605</td>\n",
       "      <td>0.393853</td>\n",
       "      <td>0.302020</td>\n",
       "      <td>0.062153</td>\n",
       "      <td>-0.674483</td>\n",
       "      <td>-0.248944</td>\n",
       "      <td>0</td>\n",
       "    </tr>\n",
       "    <tr>\n",
       "      <th>3</th>\n",
       "      <td>0.380560</td>\n",
       "      <td>0.393853</td>\n",
       "      <td>0.277822</td>\n",
       "      <td>0.032410</td>\n",
       "      <td>-0.750002</td>\n",
       "      <td>-0.253846</td>\n",
       "      <td>0</td>\n",
       "    </tr>\n",
       "    <tr>\n",
       "      <th>4</th>\n",
       "      <td>0.455332</td>\n",
       "      <td>0.266568</td>\n",
       "      <td>0.292121</td>\n",
       "      <td>-0.052465</td>\n",
       "      <td>-0.862007</td>\n",
       "      <td>-0.230969</td>\n",
       "      <td>0</td>\n",
       "    </tr>\n",
       "    <tr>\n",
       "      <th>...</th>\n",
       "      <td>...</td>\n",
       "      <td>...</td>\n",
       "      <td>...</td>\n",
       "      <td>...</td>\n",
       "      <td>...</td>\n",
       "      <td>...</td>\n",
       "      <td>...</td>\n",
       "    </tr>\n",
       "    <tr>\n",
       "      <th>285511</th>\n",
       "      <td>0.368369</td>\n",
       "      <td>-0.308761</td>\n",
       "      <td>0.502207</td>\n",
       "      <td>0.033861</td>\n",
       "      <td>-0.317254</td>\n",
       "      <td>0.651431</td>\n",
       "      <td>4</td>\n",
       "    </tr>\n",
       "    <tr>\n",
       "      <th>285512</th>\n",
       "      <td>0.370807</td>\n",
       "      <td>-0.356281</td>\n",
       "      <td>0.377915</td>\n",
       "      <td>0.109305</td>\n",
       "      <td>-0.211189</td>\n",
       "      <td>0.434099</td>\n",
       "      <td>4</td>\n",
       "    </tr>\n",
       "    <tr>\n",
       "      <th>285513</th>\n",
       "      <td>0.323669</td>\n",
       "      <td>-0.293487</td>\n",
       "      <td>0.402113</td>\n",
       "      <td>0.088993</td>\n",
       "      <td>0.030640</td>\n",
       "      <td>0.153038</td>\n",
       "      <td>4</td>\n",
       "    </tr>\n",
       "    <tr>\n",
       "      <th>285514</th>\n",
       "      <td>0.307414</td>\n",
       "      <td>-0.237481</td>\n",
       "      <td>0.480208</td>\n",
       "      <td>0.036763</td>\n",
       "      <td>0.269075</td>\n",
       "      <td>0.035385</td>\n",
       "      <td>4</td>\n",
       "    </tr>\n",
       "    <tr>\n",
       "      <th>285515</th>\n",
       "      <td>0.093664</td>\n",
       "      <td>-0.301973</td>\n",
       "      <td>0.617699</td>\n",
       "      <td>0.070858</td>\n",
       "      <td>0.363262</td>\n",
       "      <td>0.231474</td>\n",
       "      <td>4</td>\n",
       "    </tr>\n",
       "  </tbody>\n",
       "</table>\n",
       "<p>285516 rows × 7 columns</p>\n",
       "</div>"
      ],
      "text/plain": [
       "           x_acc     y_acc     z_acc     x_gyr     y_gyr     z_gyr  label_id\n",
       "0       0.208260  0.448161  0.304220  0.083190 -0.688908 -0.253846         0\n",
       "1       0.264339  0.432887  0.311919  0.073759 -0.681271 -0.242408         0\n",
       "2       0.319605  0.393853  0.302020  0.062153 -0.674483 -0.248944         0\n",
       "3       0.380560  0.393853  0.277822  0.032410 -0.750002 -0.253846         0\n",
       "4       0.455332  0.266568  0.292121 -0.052465 -0.862007 -0.230969         0\n",
       "...          ...       ...       ...       ...       ...       ...       ...\n",
       "285511  0.368369 -0.308761  0.502207  0.033861 -0.317254  0.651431         4\n",
       "285512  0.370807 -0.356281  0.377915  0.109305 -0.211189  0.434099         4\n",
       "285513  0.323669 -0.293487  0.402113  0.088993  0.030640  0.153038         4\n",
       "285514  0.307414 -0.237481  0.480208  0.036763  0.269075  0.035385         4\n",
       "285515  0.093664 -0.301973  0.617699  0.070858  0.363262  0.231474         4\n",
       "\n",
       "[285516 rows x 7 columns]"
      ]
     },
     "execution_count": 122,
     "metadata": {},
     "output_type": "execute_result"
    }
   ],
   "source": [
    "scaler = StandardScaler()\n",
    "X = scaler.fit_transform(X)\n",
    "\n",
    "scaled_X = pd.DataFrame(data = X, columns = ['x_acc', 'y_acc', 'z_acc', 'x_gyr', 'y_gyr', 'z_gyr'])\n",
    "scaled_X['label_id'] = y.values\n",
    "\n",
    "scaled_X"
   ]
  },
  {
   "cell_type": "markdown",
   "metadata": {},
   "source": [
    "### Frame Preparation "
   ]
  },
  {
   "cell_type": "code",
   "execution_count": 123,
   "metadata": {},
   "outputs": [],
   "source": [
    "import scipy.stats as stats"
   ]
  },
  {
   "cell_type": "code",
   "execution_count": 124,
   "metadata": {},
   "outputs": [],
   "source": [
    "Fs = 33\n",
    "frame_size = Fs*2\n",
    "hop_size = Fs*2"
   ]
  },
  {
   "cell_type": "code",
   "execution_count": 125,
   "metadata": {},
   "outputs": [],
   "source": [
    "def get_frames(df, frame_size, hop_size):\n",
    "\n",
    "    N_FEATURES = 6\n",
    "    frames = []\n",
    "    labels = []\n",
    "    for i in range(0, len(df), hop_size):\n",
    "        x_acc = df['x_acc'].values[i: i + frame_size]\n",
    "        y_acc = df['y_acc'].values[i: i + frame_size]\n",
    "        z_acc = df['z_acc'].values[i: i + frame_size]\n",
    "        x_gyr = df['x_gyr'].values[i: i + frame_size]\n",
    "        y_gyr = df['y_gyr'].values[i: i + frame_size]\n",
    "        z_gyr = df['z_gyr'].values[i: i + frame_size]\n",
    "        \n",
    "        # Retrieve the most often used label in this segment\n",
    "        label = stats.mode(df['label_id'][i: i + frame_size])[0][0]\n",
    "        frames.append([x_acc, y_acc, z_acc, x_gyr, y_gyr, z_gyr])\n",
    "        labels.append(label)\n",
    "\n",
    "    # Bring the segments into a better shape\n",
    "    frames = np.asarray(frames).reshape(-1, frame_size, N_FEATURES)\n",
    "    labels = np.asarray(labels)\n",
    "\n",
    "    return frames, labels"
   ]
  },
  {
   "cell_type": "code",
   "execution_count": 126,
   "metadata": {},
   "outputs": [
    {
     "name": "stderr",
     "output_type": "stream",
     "text": [
      "/tmp/ipykernel_6124/1045444072.py:15: FutureWarning: Unlike other reduction functions (e.g. `skew`, `kurtosis`), the default behavior of `mode` typically preserves the axis it acts along. In SciPy 1.11.0, this behavior will change: the default value of `keepdims` will become False, the `axis` over which the statistic is taken will be eliminated, and the value None will no longer be accepted. Set `keepdims` to True or False to avoid this warning.\n",
      "  label = stats.mode(df['label_id'][i: i + frame_size])[0][0]\n"
     ]
    }
   ],
   "source": [
    "X, y = get_frames(scaled_X, frame_size, hop_size)"
   ]
  },
  {
   "cell_type": "code",
   "execution_count": 127,
   "metadata": {},
   "outputs": [
    {
     "data": {
      "text/plain": [
       "(285516, 7)"
      ]
     },
     "execution_count": 127,
     "metadata": {},
     "output_type": "execute_result"
    }
   ],
   "source": [
    "scaled_X.shape"
   ]
  },
  {
   "cell_type": "code",
   "execution_count": 128,
   "metadata": {},
   "outputs": [
    {
     "data": {
      "text/plain": [
       "((4326, 66, 6), (4326,))"
      ]
     },
     "execution_count": 128,
     "metadata": {},
     "output_type": "execute_result"
    }
   ],
   "source": [
    "X.shape, y.shape"
   ]
  },
  {
   "cell_type": "code",
   "execution_count": 129,
   "metadata": {},
   "outputs": [],
   "source": [
    "X_train, X_test, y_train, y_test = train_test_split(X, y, test_size = 0.1, random_state = 321, stratify = y)"
   ]
  },
  {
   "cell_type": "code",
   "execution_count": 130,
   "metadata": {},
   "outputs": [
    {
     "name": "stdout",
     "output_type": "stream",
     "text": [
      "(3893, 66, 6)\n",
      "(3893,)\n",
      "(433, 66, 6)\n",
      "(433,)\n"
     ]
    }
   ],
   "source": [
    "print(X_train.shape)\n",
    "print(y_train.shape)\n",
    "print(X_test.shape)\n",
    "print(y_test.shape)"
   ]
  },
  {
   "cell_type": "code",
   "execution_count": 131,
   "metadata": {},
   "outputs": [
    {
     "data": {
      "text/plain": [
       "((3893, 66, 6), (433, 66, 6))"
      ]
     },
     "execution_count": 131,
     "metadata": {},
     "output_type": "execute_result"
    }
   ],
   "source": [
    "X_train.shape, X_test.shape"
   ]
  },
  {
   "cell_type": "code",
   "execution_count": 132,
   "metadata": {},
   "outputs": [
    {
     "data": {
      "text/plain": [
       "Walking    98736\n",
       "Running    98406\n",
       "Stairs     61578\n",
       "Sitting    14124\n",
       "Falling    12672\n",
       "Name: label, dtype: int64"
      ]
     },
     "execution_count": 132,
     "metadata": {},
     "output_type": "execute_result"
    }
   ],
   "source": [
    "counts = data['label'].value_counts()\n",
    "counts"
   ]
  },
  {
   "cell_type": "code",
   "execution_count": 133,
   "metadata": {},
   "outputs": [],
   "source": [
    "# calculate class_weight\n",
    "class_weights = calculate_class_weights(y_train)"
   ]
  },
  {
   "cell_type": "code",
   "execution_count": 134,
   "metadata": {},
   "outputs": [
    {
     "data": {
      "text/plain": [
       "{0: 4.500578034682081,\n",
       " 1: 0.5801788375558867,\n",
       " 2: 4.055208333333334,\n",
       " 3: 0.9269047619047619,\n",
       " 4: 0.5784546805349183}"
      ]
     },
     "execution_count": 134,
     "metadata": {},
     "output_type": "execute_result"
    }
   ],
   "source": [
    "class_weights"
   ]
  },
  {
   "cell_type": "code",
   "execution_count": 135,
   "metadata": {},
   "outputs": [
    {
     "data": {
      "text/plain": [
       "array(['Falling', 'Running', 'Sitting', 'Stairs', 'Walking'], dtype=object)"
      ]
     },
     "execution_count": 135,
     "metadata": {},
     "output_type": "execute_result"
    }
   ],
   "source": [
    "label.classes_"
   ]
  },
  {
   "cell_type": "markdown",
   "metadata": {},
   "source": [
    "### Models"
   ]
  },
  {
   "cell_type": "code",
   "execution_count": 136,
   "metadata": {},
   "outputs": [],
   "source": [
    "def cnn_1d_model():\n",
    "    model = Sequential()\n",
    "    model.add(Conv1D(32, 3, activation = 'relu', input_shape = X_train[0].shape))\n",
    "    # model.add(Dropout(0.2))\n",
    "    # model.add(Conv1D(16, 5, activation = 'relu'))\n",
    "    # model.add(Dropout(0.2))\n",
    "    model.add(Flatten())\n",
    "    model.add(Dense(128, activation='relu'))\n",
    "    model.add(Dense(5, activation='softmax'))\n",
    "    return model"
   ]
  },
  {
   "cell_type": "code",
   "execution_count": 137,
   "metadata": {},
   "outputs": [],
   "source": [
    "def lstm_model():\n",
    "    # X_train = X_train.reshape(X_train.shape[0], 66, X_test.shape[2])\n",
    "    # X_val = X_val.reshape(X_val.shape[0], 66, X_test.shape[2])\n",
    "    # X_test = X_test.reshape(X_test.shape[0], 66, X_test.shape[2])\n",
    "\n",
    "    model = Sequential()\n",
    "    model.add(LSTM(units=256, input_shape= X_train[0].shape, return_sequences=True))\n",
    "    model.add(Dropout(0.3))\n",
    "    model.add(LSTM(units=256, input_shape= X_train[0].shape, return_sequences=True))\n",
    "    model.add(Flatten())\n",
    "    model.add(Dense(64, activation = 'relu'))\n",
    "    model.add(Dropout(0.3))\n",
    "    model.add(Dense(5, activation='softmax'))\n",
    "    return model\n"
   ]
  },
  {
   "cell_type": "code",
   "execution_count": 138,
   "metadata": {},
   "outputs": [],
   "source": [
    "model = lstm_model()"
   ]
  },
  {
   "cell_type": "code",
   "execution_count": 140,
   "metadata": {},
   "outputs": [
    {
     "name": "stdout",
     "output_type": "stream",
     "text": [
      "Epoch 1/100\n",
      "110/110 [==============================] - 33s 263ms/step - loss: 1.6988 - accuracy: 0.1784 - val_loss: 1.5161 - val_accuracy: 0.3359\n",
      "Epoch 2/100\n",
      "110/110 [==============================] - 28s 258ms/step - loss: 1.7020 - accuracy: 0.1462 - val_loss: 1.5630 - val_accuracy: 0.2179\n",
      "Epoch 3/100\n",
      "110/110 [==============================] - 28s 258ms/step - loss: 1.6584 - accuracy: 0.1627 - val_loss: 1.6777 - val_accuracy: 0.0410\n",
      "Epoch 4/100\n",
      "110/110 [==============================] - 23s 207ms/step - loss: 1.6962 - accuracy: 0.2132 - val_loss: 1.5513 - val_accuracy: 0.3718\n",
      "Epoch 5/100\n",
      "110/110 [==============================] - 26s 237ms/step - loss: 1.7173 - accuracy: 0.1499 - val_loss: 1.9465 - val_accuracy: 0.0333\n",
      "Epoch 6/100\n",
      "110/110 [==============================] - 27s 245ms/step - loss: 1.6718 - accuracy: 0.1767 - val_loss: 1.7357 - val_accuracy: 0.2179\n",
      "Epoch 7/100\n",
      "110/110 [==============================] - 28s 253ms/step - loss: 1.6936 - accuracy: 0.1756 - val_loss: 1.7864 - val_accuracy: 0.0333\n",
      "Epoch 8/100\n",
      "110/110 [==============================] - 27s 246ms/step - loss: 1.6918 - accuracy: 0.1647 - val_loss: 1.4944 - val_accuracy: 0.3359\n",
      "Epoch 9/100\n",
      "110/110 [==============================] - 26s 239ms/step - loss: 1.7157 - accuracy: 0.1504 - val_loss: 1.5218 - val_accuracy: 0.3718\n",
      "Epoch 10/100\n",
      "110/110 [==============================] - 26s 239ms/step - loss: 1.6930 - accuracy: 0.1861 - val_loss: 1.4984 - val_accuracy: 0.2179\n"
     ]
    }
   ],
   "source": [
    "# early stopping\n",
    "es = tf.keras.callbacks.EarlyStopping(monitor='loss', patience=7, mode = 'auto')\n",
    "          \n",
    "# compile model\n",
    "model.compile(optimizer=Adam(learning_rate = 0.7), loss = 'sparse_categorical_crossentropy', metrics = ['accuracy'])    \n",
    "\n",
    "# train model\n",
    "history = model.fit(X_train, y_train, validation_split=0.1, epochs = 100, verbose=1, class_weight=class_weights, callbacks = [es])"
   ]
  },
  {
   "cell_type": "markdown",
   "metadata": {},
   "source": [
    "### Evaluation"
   ]
  },
  {
   "cell_type": "code",
   "execution_count": 141,
   "metadata": {},
   "outputs": [],
   "source": [
    "from mlxtend.plotting import plot_confusion_matrix\n",
    "from sklearn.metrics import confusion_matrix, accuracy_score"
   ]
  },
  {
   "cell_type": "code",
   "execution_count": 142,
   "metadata": {},
   "outputs": [
    {
     "name": "stdout",
     "output_type": "stream",
     "text": [
      "14/14 [==============================] - 2s 84ms/step\n"
     ]
    }
   ],
   "source": [
    "y_pred = np.argmax(model.predict(X_test), axis=-1)"
   ]
  },
  {
   "cell_type": "code",
   "execution_count": 143,
   "metadata": {},
   "outputs": [
    {
     "data": {
      "text/plain": [
       "0.21478060046189376"
      ]
     },
     "execution_count": 143,
     "metadata": {},
     "output_type": "execute_result"
    },
    {
     "data": {
      "image/png": "[encoded data removed]",
      "text/plain": [
       "<Figure size 700x700 with 1 Axes>"
      ]
     },
     "metadata": {},
     "output_type": "display_data"
    }
   ],
   "source": [
    "mat = confusion_matrix(y_test, y_pred)\n",
    "plot_confusion_matrix(conf_mat=mat, class_names=label.classes_, show_normed=True, figsize=(7,7))\n",
    "\n",
    "accuracy_score(y_test, y_pred)"
   ]
  },
  {
   "cell_type": "code",
   "execution_count": null,
   "metadata": {},
   "outputs": [],
   "source": []
  }
 ],
 "metadata": {
  "kernelspec": {
   "display_name": "Python 3 (ipykernel)",
   "language": "python",
   "name": "python3"
  },
  "language_info": {
   "codemirror_mode": {
    "name": "ipython",
    "version": 3
   },
   "file_extension": ".py",
   "mimetype": "text/x-python",
   "name": "python",
   "nbconvert_exporter": "python",
   "pygments_lexer": "ipython3",
   "version": "3.10.6"
  }
 },
 "nbformat": 4,
 "nbformat_minor": 4
}
